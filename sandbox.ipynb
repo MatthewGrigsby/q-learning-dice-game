{
 "cells": [
  {
   "cell_type": "code",
   "execution_count": null,
   "metadata": {},
   "outputs": [],
   "source": [
    "from src.q_learning_training import *\n",
    "from src.q_learning_assessment import *"
   ]
  },
  {
   "cell_type": "code",
   "execution_count": null,
   "metadata": {},
   "outputs": [],
   "source": [
    "# Define the initial set of sticks\n",
    "initial_sticks = list(range(1, 13))"
   ]
  },
  {
   "cell_type": "code",
   "execution_count": null,
   "metadata": {},
   "outputs": [],
   "source": [
    "# Set Q-learning parameters\n",
    "num_episodes = int(1e6)    # Total number of training episodes\n",
    "alpha = 0.1           # Learning rate\n",
    "gamma = 0.9           # Discount factor\n",
    "epsilon = 1.0         # Initial exploration rate\n",
    "min_epsilon = 0.01    # Minimum exploration rate\n",
    "decay_rate = 0.995    # Decay rate for exploration probability"
   ]
  },
  {
   "cell_type": "code",
   "execution_count": null,
   "metadata": {},
   "outputs": [],
   "source": [
    "# Train the agent\n",
    "q_table, rewards = train_agent(initial_sticks, num_episodes, alpha, gamma, epsilon, min_epsilon, decay_rate)\n",
    "print(f\"Total Rewards of all episodes: {sum(rewards)}\")"
   ]
  },
  {
   "cell_type": "code",
   "execution_count": null,
   "metadata": {},
   "outputs": [],
   "source": [
    "# Example of Q learning strategy\n",
    "win_rate, wins, losses = simulate_games(q_table, 10000)\n",
    "print(f\"Win rate: {win_rate*100:.2f}% - Wins: {wins} - Losses: {losses}\")"
   ]
  },
  {
   "cell_type": "code",
   "execution_count": null,
   "metadata": {},
   "outputs": [],
   "source": [
    "# Example of random strategy\n",
    "win_rate, wins, losses = simulate_random_games(10000)\n",
    "print(f\"Random strategy - Win rate: {win_rate*100:.2f}% - Wins: {wins} - Losses: {losses}\")"
   ]
  }
 ],
 "metadata": {
  "kernelspec": {
   "display_name": "rl-pytorch",
   "language": "python",
   "name": "python3"
  },
  "language_info": {
   "codemirror_mode": {
    "name": "ipython",
    "version": 3
   },
   "file_extension": ".py",
   "mimetype": "text/x-python",
   "name": "python",
   "nbconvert_exporter": "python",
   "pygments_lexer": "ipython3",
   "version": "3.10.11"
  }
 },
 "nbformat": 4,
 "nbformat_minor": 2
}
