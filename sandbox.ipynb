{
 "cells": [
  {
   "cell_type": "code",
   "execution_count": 1,
   "metadata": {},
   "outputs": [],
   "source": [
    "from src.q_learning_training import *\n",
    "from src.q_learning_assessment import *"
   ]
  },
  {
   "cell_type": "code",
   "execution_count": 2,
   "metadata": {},
   "outputs": [],
   "source": [
    "# Define the initial set of sticks\n",
    "initial_sticks = list(range(1, 13))"
   ]
  },
  {
   "cell_type": "code",
   "execution_count": 3,
   "metadata": {},
   "outputs": [],
   "source": [
    "# Set Q-learning parameters\n",
    "num_episodes = int(5e6)  # Total number of training episodes\n",
    "alpha = 0.1  # Learning rate\n",
    "gamma = 0.9  # Discount factor\n",
    "epsilon = 1.0  # Initial exploration rate\n",
    "min_epsilon = 0.01  # Minimum exploration rate\n",
    "decay_rate = 0.995  # Decay rate for exploration probability (this is adjusted dynamically)"
   ]
  },
  {
   "cell_type": "code",
   "execution_count": 4,
   "metadata": {},
   "outputs": [
    {
     "name": "stdout",
     "output_type": "stream",
     "text": [
      "Episode 0/5,000,000 - Win Rate: 0.0000 - Epsilon: 0.99\n",
      "Episode 500,000/5,000,000 - Win Rate: 0.0008 - Epsilon: 0.99\n",
      "Episode 1,000,000/5,000,000 - Win Rate: 0.0007 - Epsilon: 0.99\n",
      "Episode 1,500,000/5,000,000 - Win Rate: 0.0007 - Epsilon: 0.99\n",
      "Episode 2,000,000/5,000,000 - Win Rate: 0.0008 - Epsilon: 0.99\n",
      "Episode 2,500,000/5,000,000 - Win Rate: 0.0008 - Epsilon: 0.50\n",
      "Episode 3,000,000/5,000,000 - Win Rate: 0.0008 - Epsilon: 0.40\n",
      "Episode 3,500,000/5,000,000 - Win Rate: 0.0009 - Epsilon: 0.30\n",
      "Episode 4,000,000/5,000,000 - Win Rate: 0.0010 - Epsilon: 0.20\n",
      "Episode 4,500,000/5,000,000 - Win Rate: 0.0011 - Epsilon: 0.10\n",
      "Total Rewards of all episodes: 6772\n"
     ]
    }
   ],
   "source": [
    "# Train the agent\n",
    "q_table, rewards = train_agent(\n",
    "    initial_sticks, num_episodes, alpha, gamma, epsilon, min_epsilon, decay_rate\n",
    ")"
   ]
  },
  {
   "cell_type": "code",
   "execution_count": 5,
   "metadata": {},
   "outputs": [
    {
     "name": "stdout",
     "output_type": "stream",
     "text": [
      "Win rate: 0.07% - Wins: 67 - Losses: 99933\n"
     ]
    }
   ],
   "source": [
    "# Example of Q learning strategy\n",
    "print(\"=====================================\")\n",
    "print(f\"Assess the performance of the agent after training for {num_episodes:,} episodes\")\n",
    "win_rate, wins, losses = simulate_games(q_table, 100000)\n",
    "print(f\"Win rate: {win_rate*100:.2f}% - Wins: {wins} - Losses: {losses}\")\n",
    "print(\"=====================================\")"
   ]
  },
  {
   "cell_type": "code",
   "execution_count": 6,
   "metadata": {},
   "outputs": [
    {
     "name": "stdout",
     "output_type": "stream",
     "text": [
      "Random strategy - Win rate: 0.10% - Wins: 96 - Losses: 99904\n"
     ]
    }
   ],
   "source": [
    "# Example of random strategy\n",
    "print(\"=====================================\")\n",
    "win_rate, wins, losses = simulate_random_games(100000)\n",
    "print(f\"Assess the performance of a completely random strategy for comparison\")\n",
    "print(\n",
    "    f\"Random strategy - Win rate: {win_rate*100:.2f}% - Wins: {wins} - Losses: {losses}\"\n",
    ")\n",
    "print(\"=====================================\")"
   ]
  },
  {
   "cell_type": "code",
   "execution_count": null,
   "metadata": {},
   "outputs": [],
   "source": []
  },
  {
   "cell_type": "code",
   "execution_count": null,
   "metadata": {},
   "outputs": [],
   "source": []
  }
 ],
 "metadata": {
  "kernelspec": {
   "display_name": "rl-pytorch",
   "language": "python",
   "name": "python3"
  },
  "language_info": {
   "codemirror_mode": {
    "name": "ipython",
    "version": 3
   },
   "file_extension": ".py",
   "mimetype": "text/x-python",
   "name": "python",
   "nbconvert_exporter": "python",
   "pygments_lexer": "ipython3",
   "version": "3.10.11"
  }
 },
 "nbformat": 4,
 "nbformat_minor": 2
}
